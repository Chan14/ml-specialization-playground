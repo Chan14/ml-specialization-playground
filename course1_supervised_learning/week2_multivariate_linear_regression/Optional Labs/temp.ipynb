{
 "cells": [
  {
   "cell_type": "code",
   "execution_count": null,
   "id": "7c79754f",
   "metadata": {},
   "outputs": [],
   "source": [
    "import sys\n",
    "print(\"Notebook Python:\", sys.executable)\n",
    "\n",
    "import lab_utils_common\n",
    "import os\n",
    "print(\"Imported lab_utils_multi from:\", lab_utils_common.__file__)"
   ]
  },
  {
   "cell_type": "code",
   "execution_count": null,
   "id": "abfc9779",
   "metadata": {},
   "outputs": [],
   "source": [
    "import numpy as np\n",
    "W = np.array([1,2,3,4])\n",
    "print(W)\n",
    "V = W[:, None]\n",
    "print(V)\n",
    "mylist = [V, 0.0]\n",
    "mylist2 = [V.squeeze(), 0.0]\n",
    "print(mylist)\n",
    "print(mylist2)"
   ]
  }
 ],
 "metadata": {
  "kernelspec": {
   "display_name": "venv",
   "language": "python",
   "name": "python3"
  },
  "language_info": {
   "codemirror_mode": {
    "name": "ipython",
    "version": 3
   },
   "file_extension": ".py",
   "mimetype": "text/x-python",
   "name": "python",
   "nbconvert_exporter": "python",
   "pygments_lexer": "ipython3",
   "version": "3.11.9"
  }
 },
 "nbformat": 4,
 "nbformat_minor": 5
}
